{
 "cells": [
  {
   "cell_type": "code",
   "execution_count": 14,
   "metadata": {},
   "outputs": [],
   "source": [
    "import os\n",
    "import json\n",
    "import torch\n",
    "import numpy as np\n",
    "\n",
    "import matplotlib.pyplot as plt\n",
    "\n",
    "from transformer_lens import HookedTransformer\n",
    "\n",
    "from model import MLP\n",
    "from utils import get_freqs\n",
    "from buffer import Buffer\n"
   ]
  },
  {
   "cell_type": "code",
   "execution_count": 15,
   "metadata": {},
   "outputs": [
    {
     "name": "stdout",
     "output_type": "stream",
     "text": [
      "{'original_model': 'gelu-1l', 'batch_size': 2048, 'buffer_mult': 384, 'num_tokens': 3000000000, 'seq_len': 128, 'lr': 0.0001, 'l1_coeff': 0.001, 'beta1': 0.9, 'beta2': 0.99, 'd_hidden_mult': 32, 'd_in': 512, 'act': 'gelu', 'model_batch_size': 256, 'buffer_size': 786432, 'buffer_batches': 6144, 'save_dir': 'mlps/2023-10-28_10-43-36'}\n",
      "Loaded pretrained model gelu-1l into HookedTransformer\n"
     ]
    },
    {
     "ename": "NameError",
     "evalue": "name 'default_cfg' is not defined",
     "output_type": "error",
     "traceback": [
      "\u001b[0;31m---------------------------------------------------------------------------\u001b[0m",
      "\u001b[0;31mNameError\u001b[0m                                 Traceback (most recent call last)",
      "Cell \u001b[0;32mIn[15], line 8\u001b[0m\n\u001b[1;32m      4\u001b[0m \u001b[39mprint\u001b[39m(conifg)\n\u001b[1;32m      6\u001b[0m original_model \u001b[39m=\u001b[39m HookedTransformer\u001b[39m.\u001b[39mfrom_pretrained(conifg[\u001b[39m'\u001b[39m\u001b[39moriginal_model\u001b[39m\u001b[39m'\u001b[39m])\n\u001b[0;32m----> 8\u001b[0m buffer \u001b[39m=\u001b[39m Buffer(cfg\u001b[39m=\u001b[39mdefault_cfg, model\u001b[39m=\u001b[39moriginal_model)\n",
      "\u001b[0;31mNameError\u001b[0m: name 'default_cfg' is not defined"
     ]
    }
   ],
   "source": [
    "save_dir = \"mlps/2023-10-28_10-43-36\"\n",
    "\n",
    "conifg = json.load(open(os.path.join(save_dir, \"cfg.json\"), \"r\"))\n",
    "print(conifg)\n",
    "\n",
    "original_model = HookedTransformer.from_pretrained(conifg['original_model'])\n",
    "\n",
    "buffer = Buffer(cfg=config, model=original_model)\n"
   ]
  },
  {
   "cell_type": "code",
   "execution_count": null,
   "metadata": {},
   "outputs": [
    {
     "ename": "AttributeError",
     "evalue": "'MLP' object has no attribute 'device'",
     "output_type": "error",
     "traceback": [
      "\u001b[0;31m---------------------------------------------------------------------------\u001b[0m",
      "\u001b[0;31mAttributeError\u001b[0m                            Traceback (most recent call last)",
      "Cell \u001b[0;32mIn[13], line 6\u001b[0m\n\u001b[1;32m      4\u001b[0m model\u001b[39m.\u001b[39mload_state_dict(torch\u001b[39m.\u001b[39mload(model_path))\n\u001b[1;32m      5\u001b[0m model\u001b[39m.\u001b[39meval()\n\u001b[0;32m----> 6\u001b[0m \u001b[39mprint\u001b[39m(model\u001b[39m.\u001b[39;49mdevice)\n\u001b[1;32m      8\u001b[0m \u001b[39m# freqs = get_freqs(original_model=)\u001b[39;00m\n",
      "File \u001b[0;32m~/safety/ft_exp/.venv/lib/python3.9/site-packages/torch/nn/modules/module.py:1695\u001b[0m, in \u001b[0;36mModule.__getattr__\u001b[0;34m(self, name)\u001b[0m\n\u001b[1;32m   1693\u001b[0m     \u001b[39mif\u001b[39;00m name \u001b[39min\u001b[39;00m modules:\n\u001b[1;32m   1694\u001b[0m         \u001b[39mreturn\u001b[39;00m modules[name]\n\u001b[0;32m-> 1695\u001b[0m \u001b[39mraise\u001b[39;00m \u001b[39mAttributeError\u001b[39;00m(\u001b[39mf\u001b[39m\u001b[39m\"\u001b[39m\u001b[39m'\u001b[39m\u001b[39m{\u001b[39;00m\u001b[39mtype\u001b[39m(\u001b[39mself\u001b[39m)\u001b[39m.\u001b[39m\u001b[39m__name__\u001b[39m\u001b[39m}\u001b[39;00m\u001b[39m'\u001b[39m\u001b[39m object has no attribute \u001b[39m\u001b[39m'\u001b[39m\u001b[39m{\u001b[39;00mname\u001b[39m}\u001b[39;00m\u001b[39m'\u001b[39m\u001b[39m\"\u001b[39m)\n",
      "\u001b[0;31mAttributeError\u001b[0m: 'MLP' object has no attribute 'device'"
     ]
    }
   ],
   "source": [
    "\n",
    "model_path = os.path.join(save_dir, \"mlp_final.pt\")\n",
    "\n",
    "model = MLP(cfg=conifg)\n",
    "model.load_state_dict(torch.load(model_path))\n",
    "model.eval()\n",
    "\n",
    "freqs = get_freqs(original_model=original_model, local_encoder=model, all_tokens=buffer.all_tokens, num_batches=50)\n"
   ]
  }
 ],
 "metadata": {
  "kernelspec": {
   "display_name": ".venv",
   "language": "python",
   "name": "python3"
  },
  "language_info": {
   "codemirror_mode": {
    "name": "ipython",
    "version": 3
   },
   "file_extension": ".py",
   "mimetype": "text/x-python",
   "name": "python",
   "nbconvert_exporter": "python",
   "pygments_lexer": "ipython3",
   "version": "3.9.18"
  },
  "orig_nbformat": 4
 },
 "nbformat": 4,
 "nbformat_minor": 2
}
